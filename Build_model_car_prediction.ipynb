{
 "cells": [
  {
   "cell_type": "code",
   "execution_count": 1,
   "metadata": {},
   "outputs": [],
   "source": [
    "import pandas as pd\n",
    "import numpy as np"
   ]
  },
  {
   "cell_type": "code",
   "execution_count": 2,
   "metadata": {},
   "outputs": [
    {
     "name": "stdout",
     "output_type": "stream",
     "text": [
      " El volumen de la unidad C no tiene etiqueta.\n",
      " El n£mero de serie del volumen es: D258-06D3\n",
      "\n",
      " Directorio de C:\\Users\\Sergio\\Documents\\IA\\Projects\\car_prediction\n",
      "\n",
      "07/07/2022  00:55    <DIR>          .\n",
      "07/07/2022  00:55    <DIR>          ..\n",
      "06/07/2022  20:13    <DIR>          .ipynb_checkpoints\n",
      "07/07/2022  00:55            62.206 Build_model_car_prediction.ipynb\n",
      "06/07/2022  13:18                62 car_prediction.py\n",
      "06/07/2022  11:38         2.201.879 car_price_prediction.csv\n",
      "06/07/2022  20:24         1.626.495 clean_car_prediction.csv\n",
      "06/07/2022  20:26           118.353 clean_prediction_car.ipynb\n",
      "               5 archivos      4.008.995 bytes\n",
      "               3 dirs  48.897.589.248 bytes libres\n"
     ]
    }
   ],
   "source": [
    "ls"
   ]
  },
  {
   "cell_type": "code",
   "execution_count": 3,
   "metadata": {},
   "outputs": [
    {
     "data": {
      "text/html": [
       "<div>\n",
       "<style scoped>\n",
       "    .dataframe tbody tr th:only-of-type {\n",
       "        vertical-align: middle;\n",
       "    }\n",
       "\n",
       "    .dataframe tbody tr th {\n",
       "        vertical-align: top;\n",
       "    }\n",
       "\n",
       "    .dataframe thead th {\n",
       "        text-align: right;\n",
       "    }\n",
       "</style>\n",
       "<table border=\"1\" class=\"dataframe\">\n",
       "  <thead>\n",
       "    <tr style=\"text-align: right;\">\n",
       "      <th></th>\n",
       "      <th>Price</th>\n",
       "      <th>Levy</th>\n",
       "      <th>Manufacturer</th>\n",
       "      <th>Model</th>\n",
       "      <th>Prod. year</th>\n",
       "      <th>Category</th>\n",
       "      <th>Leather interior</th>\n",
       "      <th>Fuel type</th>\n",
       "      <th>Mileage</th>\n",
       "      <th>Cylinders</th>\n",
       "      <th>Gear box type</th>\n",
       "      <th>Drive wheels</th>\n",
       "      <th>Color</th>\n",
       "      <th>Airbags</th>\n",
       "    </tr>\n",
       "  </thead>\n",
       "  <tbody>\n",
       "    <tr>\n",
       "      <th>0</th>\n",
       "      <td>13328</td>\n",
       "      <td>1399</td>\n",
       "      <td>LEXUS</td>\n",
       "      <td>RX 450</td>\n",
       "      <td>2010</td>\n",
       "      <td>Jeep</td>\n",
       "      <td>Yes</td>\n",
       "      <td>Hybrid</td>\n",
       "      <td>186005 km</td>\n",
       "      <td>6.0</td>\n",
       "      <td>Automatic</td>\n",
       "      <td>4x4</td>\n",
       "      <td>Silver</td>\n",
       "      <td>12</td>\n",
       "    </tr>\n",
       "    <tr>\n",
       "      <th>1</th>\n",
       "      <td>16621</td>\n",
       "      <td>1018</td>\n",
       "      <td>CHEVROLET</td>\n",
       "      <td>Equinox</td>\n",
       "      <td>2011</td>\n",
       "      <td>Jeep</td>\n",
       "      <td>No</td>\n",
       "      <td>Petrol</td>\n",
       "      <td>192000 km</td>\n",
       "      <td>6.0</td>\n",
       "      <td>Tiptronic</td>\n",
       "      <td>4x4</td>\n",
       "      <td>Black</td>\n",
       "      <td>8</td>\n",
       "    </tr>\n",
       "    <tr>\n",
       "      <th>2</th>\n",
       "      <td>8467</td>\n",
       "      <td>906</td>\n",
       "      <td>HONDA</td>\n",
       "      <td>FIT</td>\n",
       "      <td>2006</td>\n",
       "      <td>Hatchback</td>\n",
       "      <td>No</td>\n",
       "      <td>Petrol</td>\n",
       "      <td>200000 km</td>\n",
       "      <td>4.0</td>\n",
       "      <td>Variator</td>\n",
       "      <td>Front</td>\n",
       "      <td>Black</td>\n",
       "      <td>2</td>\n",
       "    </tr>\n",
       "    <tr>\n",
       "      <th>3</th>\n",
       "      <td>3607</td>\n",
       "      <td>862</td>\n",
       "      <td>FORD</td>\n",
       "      <td>Escape</td>\n",
       "      <td>2011</td>\n",
       "      <td>Jeep</td>\n",
       "      <td>Yes</td>\n",
       "      <td>Hybrid</td>\n",
       "      <td>168966 km</td>\n",
       "      <td>4.0</td>\n",
       "      <td>Automatic</td>\n",
       "      <td>4x4</td>\n",
       "      <td>White</td>\n",
       "      <td>0</td>\n",
       "    </tr>\n",
       "    <tr>\n",
       "      <th>4</th>\n",
       "      <td>11726</td>\n",
       "      <td>446</td>\n",
       "      <td>HONDA</td>\n",
       "      <td>FIT</td>\n",
       "      <td>2014</td>\n",
       "      <td>Hatchback</td>\n",
       "      <td>Yes</td>\n",
       "      <td>Petrol</td>\n",
       "      <td>91901 km</td>\n",
       "      <td>4.0</td>\n",
       "      <td>Automatic</td>\n",
       "      <td>Front</td>\n",
       "      <td>Silver</td>\n",
       "      <td>4</td>\n",
       "    </tr>\n",
       "    <tr>\n",
       "      <th>...</th>\n",
       "      <td>...</td>\n",
       "      <td>...</td>\n",
       "      <td>...</td>\n",
       "      <td>...</td>\n",
       "      <td>...</td>\n",
       "      <td>...</td>\n",
       "      <td>...</td>\n",
       "      <td>...</td>\n",
       "      <td>...</td>\n",
       "      <td>...</td>\n",
       "      <td>...</td>\n",
       "      <td>...</td>\n",
       "      <td>...</td>\n",
       "      <td>...</td>\n",
       "    </tr>\n",
       "    <tr>\n",
       "      <th>19232</th>\n",
       "      <td>8467</td>\n",
       "      <td>906</td>\n",
       "      <td>MERCEDES-BENZ</td>\n",
       "      <td>CLK 200</td>\n",
       "      <td>1999</td>\n",
       "      <td>Coupe</td>\n",
       "      <td>Yes</td>\n",
       "      <td>CNG</td>\n",
       "      <td>300000 km</td>\n",
       "      <td>4.0</td>\n",
       "      <td>Manual</td>\n",
       "      <td>Rear</td>\n",
       "      <td>Silver</td>\n",
       "      <td>5</td>\n",
       "    </tr>\n",
       "    <tr>\n",
       "      <th>19233</th>\n",
       "      <td>15681</td>\n",
       "      <td>831</td>\n",
       "      <td>HYUNDAI</td>\n",
       "      <td>Sonata</td>\n",
       "      <td>2011</td>\n",
       "      <td>Sedan</td>\n",
       "      <td>Yes</td>\n",
       "      <td>Petrol</td>\n",
       "      <td>161600 km</td>\n",
       "      <td>4.0</td>\n",
       "      <td>Tiptronic</td>\n",
       "      <td>Front</td>\n",
       "      <td>Red</td>\n",
       "      <td>8</td>\n",
       "    </tr>\n",
       "    <tr>\n",
       "      <th>19234</th>\n",
       "      <td>26108</td>\n",
       "      <td>836</td>\n",
       "      <td>HYUNDAI</td>\n",
       "      <td>Tucson</td>\n",
       "      <td>2010</td>\n",
       "      <td>Jeep</td>\n",
       "      <td>Yes</td>\n",
       "      <td>Diesel</td>\n",
       "      <td>116365 km</td>\n",
       "      <td>4.0</td>\n",
       "      <td>Automatic</td>\n",
       "      <td>Front</td>\n",
       "      <td>Grey</td>\n",
       "      <td>4</td>\n",
       "    </tr>\n",
       "    <tr>\n",
       "      <th>19235</th>\n",
       "      <td>5331</td>\n",
       "      <td>1288</td>\n",
       "      <td>CHEVROLET</td>\n",
       "      <td>Captiva</td>\n",
       "      <td>2007</td>\n",
       "      <td>Jeep</td>\n",
       "      <td>Yes</td>\n",
       "      <td>Diesel</td>\n",
       "      <td>51258 km</td>\n",
       "      <td>4.0</td>\n",
       "      <td>Automatic</td>\n",
       "      <td>Front</td>\n",
       "      <td>Black</td>\n",
       "      <td>4</td>\n",
       "    </tr>\n",
       "    <tr>\n",
       "      <th>19236</th>\n",
       "      <td>470</td>\n",
       "      <td>753</td>\n",
       "      <td>HYUNDAI</td>\n",
       "      <td>Sonata</td>\n",
       "      <td>2012</td>\n",
       "      <td>Sedan</td>\n",
       "      <td>Yes</td>\n",
       "      <td>Hybrid</td>\n",
       "      <td>186923 km</td>\n",
       "      <td>4.0</td>\n",
       "      <td>Automatic</td>\n",
       "      <td>Front</td>\n",
       "      <td>White</td>\n",
       "      <td>12</td>\n",
       "    </tr>\n",
       "  </tbody>\n",
       "</table>\n",
       "<p>19237 rows × 14 columns</p>\n",
       "</div>"
      ],
      "text/plain": [
       "       Price  Levy   Manufacturer    Model  Prod. year   Category  \\\n",
       "0      13328  1399          LEXUS   RX 450        2010       Jeep   \n",
       "1      16621  1018      CHEVROLET  Equinox        2011       Jeep   \n",
       "2       8467   906          HONDA      FIT        2006  Hatchback   \n",
       "3       3607   862           FORD   Escape        2011       Jeep   \n",
       "4      11726   446          HONDA      FIT        2014  Hatchback   \n",
       "...      ...   ...            ...      ...         ...        ...   \n",
       "19232   8467   906  MERCEDES-BENZ  CLK 200        1999      Coupe   \n",
       "19233  15681   831        HYUNDAI   Sonata        2011      Sedan   \n",
       "19234  26108   836        HYUNDAI   Tucson        2010       Jeep   \n",
       "19235   5331  1288      CHEVROLET  Captiva        2007       Jeep   \n",
       "19236    470   753        HYUNDAI   Sonata        2012      Sedan   \n",
       "\n",
       "      Leather interior Fuel type    Mileage  Cylinders Gear box type  \\\n",
       "0                  Yes    Hybrid  186005 km        6.0     Automatic   \n",
       "1                   No    Petrol  192000 km        6.0     Tiptronic   \n",
       "2                   No    Petrol  200000 km        4.0      Variator   \n",
       "3                  Yes    Hybrid  168966 km        4.0     Automatic   \n",
       "4                  Yes    Petrol   91901 km        4.0     Automatic   \n",
       "...                ...       ...        ...        ...           ...   \n",
       "19232              Yes       CNG  300000 km        4.0        Manual   \n",
       "19233              Yes    Petrol  161600 km        4.0     Tiptronic   \n",
       "19234              Yes    Diesel  116365 km        4.0     Automatic   \n",
       "19235              Yes    Diesel   51258 km        4.0     Automatic   \n",
       "19236              Yes    Hybrid  186923 km        4.0     Automatic   \n",
       "\n",
       "      Drive wheels   Color  Airbags  \n",
       "0              4x4  Silver       12  \n",
       "1              4x4   Black        8  \n",
       "2            Front   Black        2  \n",
       "3              4x4   White        0  \n",
       "4            Front  Silver        4  \n",
       "...            ...     ...      ...  \n",
       "19232         Rear  Silver        5  \n",
       "19233        Front     Red        8  \n",
       "19234        Front    Grey        4  \n",
       "19235        Front   Black        4  \n",
       "19236        Front   White       12  \n",
       "\n",
       "[19237 rows x 14 columns]"
      ]
     },
     "execution_count": 3,
     "metadata": {},
     "output_type": "execute_result"
    }
   ],
   "source": [
    "data=pd.read_csv('clean_car_prediction.csv')\n",
    "data"
   ]
  },
  {
   "cell_type": "markdown",
   "metadata": {},
   "source": [
    "## Building model"
   ]
  },
  {
   "cell_type": "code",
   "execution_count": 4,
   "metadata": {},
   "outputs": [
    {
     "data": {
      "text/plain": [
       "['int64',\n",
       " 'int64',\n",
       " 'object',\n",
       " 'object',\n",
       " 'int64',\n",
       " 'object',\n",
       " 'object',\n",
       " 'object',\n",
       " 'object',\n",
       " 'float64',\n",
       " 'object',\n",
       " 'object',\n",
       " 'object',\n",
       " 'int64']"
      ]
     },
     "execution_count": 4,
     "metadata": {},
     "output_type": "execute_result"
    }
   ],
   "source": [
    "list([str(d) for d in data.dtypes])"
   ]
  },
  {
   "cell_type": "code",
   "execution_count": 5,
   "metadata": {},
   "outputs": [],
   "source": [
    "#DATOS CATEGORICOS A NUMERICOS\n",
    "for i, column in enumerate(list([str(d) for d in data.dtypes])):\n",
    "    if column=='object':\n",
    "        data[data.columns[i]]=data[data.columns[i]].astype('category').cat.codes"
   ]
  },
  {
   "cell_type": "code",
   "execution_count": 6,
   "metadata": {},
   "outputs": [
    {
     "data": {
      "text/html": [
       "<div>\n",
       "<style scoped>\n",
       "    .dataframe tbody tr th:only-of-type {\n",
       "        vertical-align: middle;\n",
       "    }\n",
       "\n",
       "    .dataframe tbody tr th {\n",
       "        vertical-align: top;\n",
       "    }\n",
       "\n",
       "    .dataframe thead th {\n",
       "        text-align: right;\n",
       "    }\n",
       "</style>\n",
       "<table border=\"1\" class=\"dataframe\">\n",
       "  <thead>\n",
       "    <tr style=\"text-align: right;\">\n",
       "      <th></th>\n",
       "      <th>Price</th>\n",
       "      <th>Levy</th>\n",
       "      <th>Manufacturer</th>\n",
       "      <th>Model</th>\n",
       "      <th>Prod. year</th>\n",
       "      <th>Category</th>\n",
       "      <th>Leather interior</th>\n",
       "      <th>Fuel type</th>\n",
       "      <th>Mileage</th>\n",
       "      <th>Cylinders</th>\n",
       "      <th>Gear box type</th>\n",
       "      <th>Drive wheels</th>\n",
       "      <th>Color</th>\n",
       "      <th>Airbags</th>\n",
       "    </tr>\n",
       "  </thead>\n",
       "  <tbody>\n",
       "    <tr>\n",
       "      <th>0</th>\n",
       "      <td>13328</td>\n",
       "      <td>1399</td>\n",
       "      <td>32</td>\n",
       "      <td>1242</td>\n",
       "      <td>2010</td>\n",
       "      <td>4</td>\n",
       "      <td>1</td>\n",
       "      <td>2</td>\n",
       "      <td>2838</td>\n",
       "      <td>6.0</td>\n",
       "      <td>0</td>\n",
       "      <td>0</td>\n",
       "      <td>12</td>\n",
       "      <td>12</td>\n",
       "    </tr>\n",
       "    <tr>\n",
       "      <th>1</th>\n",
       "      <td>16621</td>\n",
       "      <td>1018</td>\n",
       "      <td>8</td>\n",
       "      <td>658</td>\n",
       "      <td>2011</td>\n",
       "      <td>4</td>\n",
       "      <td>0</td>\n",
       "      <td>5</td>\n",
       "      <td>2960</td>\n",
       "      <td>6.0</td>\n",
       "      <td>2</td>\n",
       "      <td>0</td>\n",
       "      <td>1</td>\n",
       "      <td>8</td>\n",
       "    </tr>\n",
       "    <tr>\n",
       "      <th>2</th>\n",
       "      <td>8467</td>\n",
       "      <td>906</td>\n",
       "      <td>21</td>\n",
       "      <td>684</td>\n",
       "      <td>2006</td>\n",
       "      <td>3</td>\n",
       "      <td>0</td>\n",
       "      <td>5</td>\n",
       "      <td>3140</td>\n",
       "      <td>4.0</td>\n",
       "      <td>3</td>\n",
       "      <td>1</td>\n",
       "      <td>1</td>\n",
       "      <td>2</td>\n",
       "    </tr>\n",
       "    <tr>\n",
       "      <th>3</th>\n",
       "      <td>3607</td>\n",
       "      <td>862</td>\n",
       "      <td>16</td>\n",
       "      <td>661</td>\n",
       "      <td>2011</td>\n",
       "      <td>4</td>\n",
       "      <td>1</td>\n",
       "      <td>2</td>\n",
       "      <td>2413</td>\n",
       "      <td>4.0</td>\n",
       "      <td>0</td>\n",
       "      <td>0</td>\n",
       "      <td>14</td>\n",
       "      <td>0</td>\n",
       "    </tr>\n",
       "    <tr>\n",
       "      <th>4</th>\n",
       "      <td>11726</td>\n",
       "      <td>446</td>\n",
       "      <td>21</td>\n",
       "      <td>684</td>\n",
       "      <td>2014</td>\n",
       "      <td>3</td>\n",
       "      <td>1</td>\n",
       "      <td>5</td>\n",
       "      <td>7396</td>\n",
       "      <td>4.0</td>\n",
       "      <td>0</td>\n",
       "      <td>1</td>\n",
       "      <td>12</td>\n",
       "      <td>4</td>\n",
       "    </tr>\n",
       "    <tr>\n",
       "      <th>...</th>\n",
       "      <td>...</td>\n",
       "      <td>...</td>\n",
       "      <td>...</td>\n",
       "      <td>...</td>\n",
       "      <td>...</td>\n",
       "      <td>...</td>\n",
       "      <td>...</td>\n",
       "      <td>...</td>\n",
       "      <td>...</td>\n",
       "      <td>...</td>\n",
       "      <td>...</td>\n",
       "      <td>...</td>\n",
       "      <td>...</td>\n",
       "      <td>...</td>\n",
       "    </tr>\n",
       "    <tr>\n",
       "      <th>19232</th>\n",
       "      <td>8467</td>\n",
       "      <td>906</td>\n",
       "      <td>36</td>\n",
       "      <td>385</td>\n",
       "      <td>1999</td>\n",
       "      <td>1</td>\n",
       "      <td>1</td>\n",
       "      <td>0</td>\n",
       "      <td>4394</td>\n",
       "      <td>4.0</td>\n",
       "      <td>1</td>\n",
       "      <td>2</td>\n",
       "      <td>12</td>\n",
       "      <td>5</td>\n",
       "    </tr>\n",
       "    <tr>\n",
       "      <th>19233</th>\n",
       "      <td>15681</td>\n",
       "      <td>831</td>\n",
       "      <td>23</td>\n",
       "      <td>1334</td>\n",
       "      <td>2011</td>\n",
       "      <td>9</td>\n",
       "      <td>1</td>\n",
       "      <td>5</td>\n",
       "      <td>2214</td>\n",
       "      <td>4.0</td>\n",
       "      <td>2</td>\n",
       "      <td>1</td>\n",
       "      <td>11</td>\n",
       "      <td>8</td>\n",
       "    </tr>\n",
       "    <tr>\n",
       "      <th>19234</th>\n",
       "      <td>26108</td>\n",
       "      <td>836</td>\n",
       "      <td>23</td>\n",
       "      <td>1442</td>\n",
       "      <td>2010</td>\n",
       "      <td>4</td>\n",
       "      <td>1</td>\n",
       "      <td>1</td>\n",
       "      <td>638</td>\n",
       "      <td>4.0</td>\n",
       "      <td>0</td>\n",
       "      <td>1</td>\n",
       "      <td>7</td>\n",
       "      <td>4</td>\n",
       "    </tr>\n",
       "    <tr>\n",
       "      <th>19235</th>\n",
       "      <td>5331</td>\n",
       "      <td>1288</td>\n",
       "      <td>8</td>\n",
       "      <td>456</td>\n",
       "      <td>2007</td>\n",
       "      <td>4</td>\n",
       "      <td>1</td>\n",
       "      <td>1</td>\n",
       "      <td>5612</td>\n",
       "      <td>4.0</td>\n",
       "      <td>0</td>\n",
       "      <td>1</td>\n",
       "      <td>1</td>\n",
       "      <td>4</td>\n",
       "    </tr>\n",
       "    <tr>\n",
       "      <th>19236</th>\n",
       "      <td>470</td>\n",
       "      <td>753</td>\n",
       "      <td>23</td>\n",
       "      <td>1334</td>\n",
       "      <td>2012</td>\n",
       "      <td>9</td>\n",
       "      <td>1</td>\n",
       "      <td>2</td>\n",
       "      <td>2857</td>\n",
       "      <td>4.0</td>\n",
       "      <td>0</td>\n",
       "      <td>1</td>\n",
       "      <td>14</td>\n",
       "      <td>12</td>\n",
       "    </tr>\n",
       "  </tbody>\n",
       "</table>\n",
       "<p>19237 rows × 14 columns</p>\n",
       "</div>"
      ],
      "text/plain": [
       "       Price  Levy  Manufacturer  Model  Prod. year  Category  \\\n",
       "0      13328  1399            32   1242        2010         4   \n",
       "1      16621  1018             8    658        2011         4   \n",
       "2       8467   906            21    684        2006         3   \n",
       "3       3607   862            16    661        2011         4   \n",
       "4      11726   446            21    684        2014         3   \n",
       "...      ...   ...           ...    ...         ...       ...   \n",
       "19232   8467   906            36    385        1999         1   \n",
       "19233  15681   831            23   1334        2011         9   \n",
       "19234  26108   836            23   1442        2010         4   \n",
       "19235   5331  1288             8    456        2007         4   \n",
       "19236    470   753            23   1334        2012         9   \n",
       "\n",
       "       Leather interior  Fuel type  Mileage  Cylinders  Gear box type  \\\n",
       "0                     1          2     2838        6.0              0   \n",
       "1                     0          5     2960        6.0              2   \n",
       "2                     0          5     3140        4.0              3   \n",
       "3                     1          2     2413        4.0              0   \n",
       "4                     1          5     7396        4.0              0   \n",
       "...                 ...        ...      ...        ...            ...   \n",
       "19232                 1          0     4394        4.0              1   \n",
       "19233                 1          5     2214        4.0              2   \n",
       "19234                 1          1      638        4.0              0   \n",
       "19235                 1          1     5612        4.0              0   \n",
       "19236                 1          2     2857        4.0              0   \n",
       "\n",
       "       Drive wheels  Color  Airbags  \n",
       "0                 0     12       12  \n",
       "1                 0      1        8  \n",
       "2                 1      1        2  \n",
       "3                 0     14        0  \n",
       "4                 1     12        4  \n",
       "...             ...    ...      ...  \n",
       "19232             2     12        5  \n",
       "19233             1     11        8  \n",
       "19234             1      7        4  \n",
       "19235             1      1        4  \n",
       "19236             1     14       12  \n",
       "\n",
       "[19237 rows x 14 columns]"
      ]
     },
     "execution_count": 6,
     "metadata": {},
     "output_type": "execute_result"
    }
   ],
   "source": [
    "data"
   ]
  },
  {
   "cell_type": "code",
   "execution_count": 7,
   "metadata": {},
   "outputs": [
    {
     "data": {
      "text/plain": [
       "Price                 int64\n",
       "Levy                  int64\n",
       "Manufacturer           int8\n",
       "Model                 int16\n",
       "Prod. year            int64\n",
       "Category               int8\n",
       "Leather interior       int8\n",
       "Fuel type              int8\n",
       "Mileage               int16\n",
       "Cylinders           float64\n",
       "Gear box type          int8\n",
       "Drive wheels           int8\n",
       "Color                  int8\n",
       "Airbags               int64\n",
       "dtype: object"
      ]
     },
     "execution_count": 7,
     "metadata": {},
     "output_type": "execute_result"
    }
   ],
   "source": [
    "data.dtypes"
   ]
  },
  {
   "cell_type": "code",
   "execution_count": 8,
   "metadata": {},
   "outputs": [],
   "source": [
    "from sklearn.linear_model import LinearRegression\n",
    "from sklearn.model_selection import train_test_split\n",
    "from sklearn.preprocessing import StandardScaler"
   ]
  },
  {
   "cell_type": "code",
   "execution_count": 9,
   "metadata": {},
   "outputs": [],
   "source": [
    "y=data.pop('Price')\n",
    "X=data.copy()"
   ]
  },
  {
   "cell_type": "code",
   "execution_count": 10,
   "metadata": {},
   "outputs": [],
   "source": [
    "X_train,X_test,y_train,y_test=train_test_split(X,y,test_size=0.30,random_state=42)"
   ]
  },
  {
   "cell_type": "markdown",
   "metadata": {},
   "source": [
    "### Sklearn linear regresion"
   ]
  },
  {
   "cell_type": "code",
   "execution_count": 11,
   "metadata": {},
   "outputs": [
    {
     "data": {
      "text/plain": [
       "0.0023240784054375796"
      ]
     },
     "execution_count": 11,
     "metadata": {},
     "output_type": "execute_result"
    }
   ],
   "source": [
    "reg=LinearRegression().fit(X_train,y_train)\n",
    "reg.score(X_train,y_train)"
   ]
  },
  {
   "cell_type": "code",
   "execution_count": 12,
   "metadata": {},
   "outputs": [],
   "source": [
    "from sklearn.metrics import mean_squared_error as mse\n",
    "from sklearn.metrics import mean_absolute_error as mae"
   ]
  },
  {
   "cell_type": "code",
   "execution_count": 13,
   "metadata": {},
   "outputs": [
    {
     "data": {
      "text/plain": [
       "array([16070.31961568, 24901.05976642, 20444.98473283, ...,\n",
       "        6992.1218408 , -4423.43200042, 21241.24818672])"
      ]
     },
     "execution_count": 13,
     "metadata": {},
     "output_type": "execute_result"
    }
   ],
   "source": [
    "reg.predict(X_test)"
   ]
  },
  {
   "cell_type": "code",
   "execution_count": 14,
   "metadata": {},
   "outputs": [
    {
     "data": {
      "text/plain": [
       "736      27284\n",
       "8674     10349\n",
       "5971     40769\n",
       "1957     38737\n",
       "11075    42102\n",
       "         ...  \n",
       "19094    11290\n",
       "2057     15681\n",
       "8309      4077\n",
       "9231      6899\n",
       "13425    23521\n",
       "Name: Price, Length: 5772, dtype: int64"
      ]
     },
     "execution_count": 14,
     "metadata": {},
     "output_type": "execute_result"
    }
   ],
   "source": [
    "y_test"
   ]
  },
  {
   "cell_type": "code",
   "execution_count": 15,
   "metadata": {},
   "outputs": [
    {
     "data": {
      "text/plain": [
       "395282691.79181993"
      ]
     },
     "execution_count": 15,
     "metadata": {},
     "output_type": "execute_result"
    }
   ],
   "source": [
    "mse(y_test,reg.predict(X_test))"
   ]
  },
  {
   "cell_type": "code",
   "execution_count": 16,
   "metadata": {},
   "outputs": [
    {
     "data": {
      "text/plain": [
       "13389.722556939578"
      ]
     },
     "execution_count": 16,
     "metadata": {},
     "output_type": "execute_result"
    }
   ],
   "source": [
    "mae(y_test,reg.predict(X_test))"
   ]
  },
  {
   "cell_type": "markdown",
   "metadata": {},
   "source": [
    "### sklearn MLPRegressor"
   ]
  },
  {
   "cell_type": "code",
   "execution_count": 17,
   "metadata": {},
   "outputs": [
    {
     "name": "stderr",
     "output_type": "stream",
     "text": [
      "C:\\ProgramData\\Anaconda3\\lib\\site-packages\\sklearn\\neural_network\\_multilayer_perceptron.py:582: ConvergenceWarning: Stochastic Optimizer: Maximum iterations (150) reached and the optimization hasn't converged yet.\n",
      "  warnings.warn(\n"
     ]
    },
    {
     "data": {
      "text/plain": [
       "array([15095.06480185, 14798.44918239, 15192.4016278 , ...,\n",
       "       13327.29384318, 11510.9312885 , 28318.81660274])"
      ]
     },
     "execution_count": 17,
     "metadata": {},
     "output_type": "execute_result"
    }
   ],
   "source": [
    "from sklearn.neural_network import MLPRegressor\n",
    "regr = MLPRegressor(random_state=1, max_iter=150).fit(X_train, y_train)\n",
    "regr.predict(X_test)\n"
   ]
  },
  {
   "cell_type": "code",
   "execution_count": 18,
   "metadata": {},
   "outputs": [
    {
     "data": {
      "text/plain": [
       "0.0019280091496363116"
      ]
     },
     "execution_count": 18,
     "metadata": {},
     "output_type": "execute_result"
    }
   ],
   "source": [
    "regr.score(X_train, y_train)"
   ]
  },
  {
   "cell_type": "code",
   "execution_count": 19,
   "metadata": {},
   "outputs": [
    {
     "data": {
      "text/plain": [
       "385829369.42894316"
      ]
     },
     "execution_count": 19,
     "metadata": {},
     "output_type": "execute_result"
    }
   ],
   "source": [
    "mse(y_test,regr.predict(X_test))"
   ]
  },
  {
   "cell_type": "code",
   "execution_count": 20,
   "metadata": {},
   "outputs": [
    {
     "data": {
      "text/plain": [
       "12604.698256170768"
      ]
     },
     "execution_count": 20,
     "metadata": {},
     "output_type": "execute_result"
    }
   ],
   "source": [
    "mae(y_test,regr.predict(X_test))"
   ]
  },
  {
   "cell_type": "markdown",
   "metadata": {},
   "source": [
    "### Keras"
   ]
  },
  {
   "cell_type": "code",
   "execution_count": 21,
   "metadata": {},
   "outputs": [],
   "source": [
    "import tensorflow as tf\n",
    "from tensorflow import keras"
   ]
  },
  {
   "cell_type": "code",
   "execution_count": 55,
   "metadata": {},
   "outputs": [],
   "source": [
    "input_data=X_train.shape[1]\n",
    "model=keras.models.Sequential()\n",
    "model.add(keras.layers.Dense(32,activation='relu',input_shape=(input_data,)))\n",
    "model.add(keras.layers.Dropout(0.5))\n",
    "model.add(keras.layers.Dense(16,activation='relu'))\n",
    "model.add(keras.layers.Dropout(0.3))\n",
    "model.add(keras.layers.Dense(8,activation='relu'))\n",
    "model.add(keras.layers.Dropout(0.3))\n",
    "model.add(keras.layers.Dense(1))\n"
   ]
  },
  {
   "cell_type": "code",
   "execution_count": 56,
   "metadata": {},
   "outputs": [],
   "source": [
    "model.compile(optimizer='rmsprop', loss='mse', metrics=['mae'])"
   ]
  },
  {
   "cell_type": "code",
   "execution_count": 57,
   "metadata": {},
   "outputs": [
    {
     "name": "stdout",
     "output_type": "stream",
     "text": [
      "Epoch 1/150\n",
      "421/421 [==============================] - 1s 762us/step - loss: 51840663552.0000 - mae: 15960.4248\n",
      "Epoch 2/150\n",
      "421/421 [==============================] - 0s 769us/step - loss: 51758116864.0000 - mae: 15173.6436\n",
      "Epoch 3/150\n",
      "421/421 [==============================] - 0s 764us/step - loss: 51790245888.0000 - mae: 15084.7070\n",
      "Epoch 4/150\n",
      "421/421 [==============================] - 0s 810us/step - loss: 51719880704.0000 - mae: 15013.3369\n",
      "Epoch 5/150\n",
      "421/421 [==============================] - 0s 779us/step - loss: 51747258368.0000 - mae: 14944.8545\n",
      "Epoch 6/150\n",
      "421/421 [==============================] - 0s 764us/step - loss: 51746893824.0000 - mae: 14929.5830\n",
      "Epoch 7/150\n",
      "421/421 [==============================] - 0s 833us/step - loss: 51790852096.0000 - mae: 14970.0039\n",
      "Epoch 8/150\n",
      "421/421 [==============================] - 0s 767us/step - loss: 51718680576.0000 - mae: 14917.4551\n",
      "Epoch 9/150\n",
      "421/421 [==============================] - 0s 764us/step - loss: 51762106368.0000 - mae: 14923.7090\n",
      "Epoch 10/150\n",
      "421/421 [==============================] - 0s 771us/step - loss: 51712258048.0000 - mae: 14952.3086\n",
      "Epoch 11/150\n",
      "421/421 [==============================] - 0s 762us/step - loss: 51698307072.0000 - mae: 14857.2412\n",
      "Epoch 12/150\n",
      "421/421 [==============================] - 0s 767us/step - loss: 51765358592.0000 - mae: 14932.4932\n",
      "Epoch 13/150\n",
      "421/421 [==============================] - 0s 767us/step - loss: 51740028928.0000 - mae: 14918.0791\n",
      "Epoch 14/150\n",
      "421/421 [==============================] - 0s 762us/step - loss: 51745640448.0000 - mae: 14867.1855s - loss: 159139348480.0000 - mae: 190\n",
      "Epoch 15/150\n",
      "421/421 [==============================] - 0s 764us/step - loss: 51741274112.0000 - mae: 14877.8281\n",
      "Epoch 16/150\n",
      "421/421 [==============================] - 0s 771us/step - loss: 51646324736.0000 - mae: 14888.8623\n",
      "Epoch 17/150\n",
      "421/421 [==============================] - 0s 829us/step - loss: 51825397760.0000 - mae: 14797.9072\n",
      "Epoch 18/150\n",
      "421/421 [==============================] - 0s 788us/step - loss: 51690500096.0000 - mae: 14892.8760\n",
      "Epoch 19/150\n",
      "421/421 [==============================] - 0s 774us/step - loss: 51746906112.0000 - mae: 14830.9268\n",
      "Epoch 20/150\n",
      "421/421 [==============================] - 0s 776us/step - loss: 51785043968.0000 - mae: 14913.7998\n",
      "Epoch 21/150\n",
      "421/421 [==============================] - 0s 807us/step - loss: 51808481280.0000 - mae: 14862.0039\n",
      "Epoch 22/150\n",
      "421/421 [==============================] - 0s 824us/step - loss: 51784806400.0000 - mae: 14901.0869\n",
      "Epoch 23/150\n",
      "421/421 [==============================] - 0s 786us/step - loss: 51787010048.0000 - mae: 14822.7188\n",
      "Epoch 24/150\n",
      "421/421 [==============================] - 0s 769us/step - loss: 51760001024.0000 - mae: 14874.9717\n",
      "Epoch 25/150\n",
      "421/421 [==============================] - 0s 767us/step - loss: 51777404928.0000 - mae: 14835.6680\n",
      "Epoch 26/150\n",
      "421/421 [==============================] - 0s 769us/step - loss: 51763167232.0000 - mae: 14811.8408\n",
      "Epoch 27/150\n",
      "421/421 [==============================] - 0s 783us/step - loss: 51738468352.0000 - mae: 14794.4658\n",
      "Epoch 28/150\n",
      "421/421 [==============================] - 0s 783us/step - loss: 51736543232.0000 - mae: 14824.9873\n",
      "Epoch 29/150\n",
      "421/421 [==============================] - 0s 857us/step - loss: 51763462144.0000 - mae: 14824.7051\n",
      "Epoch 30/150\n",
      "421/421 [==============================] - 0s 769us/step - loss: 51794149376.0000 - mae: 14710.1543\n",
      "Epoch 31/150\n",
      "421/421 [==============================] - 0s 769us/step - loss: 51722985472.0000 - mae: 14862.5967\n",
      "Epoch 32/150\n",
      "421/421 [==============================] - 0s 781us/step - loss: 51739422720.0000 - mae: 14864.9814\n",
      "Epoch 33/150\n",
      "421/421 [==============================] - 0s 771us/step - loss: 51797078016.0000 - mae: 14867.0059\n",
      "Epoch 34/150\n",
      "421/421 [==============================] - 0s 776us/step - loss: 51752714240.0000 - mae: 14799.0264\n",
      "Epoch 35/150\n",
      "421/421 [==============================] - 0s 819us/step - loss: 51742400512.0000 - mae: 14864.0361\n",
      "Epoch 36/150\n",
      "421/421 [==============================] - 0s 774us/step - loss: 51761233920.0000 - mae: 14842.4736\n",
      "Epoch 37/150\n",
      "421/421 [==============================] - 0s 786us/step - loss: 51811438592.0000 - mae: 14856.8145\n",
      "Epoch 38/150\n",
      "421/421 [==============================] - 0s 783us/step - loss: 51807993856.0000 - mae: 14876.2334\n",
      "Epoch 39/150\n",
      "421/421 [==============================] - 0s 798us/step - loss: 51747057664.0000 - mae: 14769.7715\n",
      "Epoch 40/150\n",
      "421/421 [==============================] - 0s 788us/step - loss: 51773837312.0000 - mae: 14769.5391\n",
      "Epoch 41/150\n",
      "421/421 [==============================] - 0s 781us/step - loss: 51784368128.0000 - mae: 14752.5137\n",
      "Epoch 42/150\n",
      "421/421 [==============================] - 0s 779us/step - loss: 51698589696.0000 - mae: 14755.7510\n",
      "Epoch 43/150\n",
      "421/421 [==============================] - 0s 769us/step - loss: 51750948864.0000 - mae: 14791.4277\n",
      "Epoch 44/150\n",
      "421/421 [==============================] - 0s 783us/step - loss: 51746779136.0000 - mae: 14709.9287\n",
      "Epoch 45/150\n",
      "421/421 [==============================] - 0s 850us/step - loss: 51721973760.0000 - mae: 14765.0420\n",
      "Epoch 46/150\n",
      "421/421 [==============================] - 0s 774us/step - loss: 51741630464.0000 - mae: 14758.2178\n",
      "Epoch 47/150\n",
      "421/421 [==============================] - 0s 771us/step - loss: 51757506560.0000 - mae: 14736.1807\n",
      "Epoch 48/150\n",
      "421/421 [==============================] - 0s 776us/step - loss: 51774140416.0000 - mae: 14713.4551\n",
      "Epoch 49/150\n",
      "421/421 [==============================] - 0s 776us/step - loss: 51731324928.0000 - mae: 14687.4355\n",
      "Epoch 50/150\n",
      "421/421 [==============================] - 0s 783us/step - loss: 51684601856.0000 - mae: 14711.8770\n",
      "Epoch 51/150\n",
      "421/421 [==============================] - 0s 779us/step - loss: 51738824704.0000 - mae: 14641.1963\n",
      "Epoch 52/150\n",
      "421/421 [==============================] - 0s 779us/step - loss: 51829657600.0000 - mae: 14675.7637\n",
      "Epoch 53/150\n",
      "421/421 [==============================] - 0s 779us/step - loss: 51826343936.0000 - mae: 14649.3516\n",
      "Epoch 54/150\n",
      "421/421 [==============================] - 0s 802us/step - loss: 51762323456.0000 - mae: 14637.5176\n",
      "Epoch 55/150\n",
      "421/421 [==============================] - 0s 829us/step - loss: 51713273856.0000 - mae: 14631.5322\n",
      "Epoch 56/150\n",
      "421/421 [==============================] - 0s 808us/step - loss: 51798609920.0000 - mae: 14679.8252\n",
      "Epoch 57/150\n",
      "421/421 [==============================] - 0s 852us/step - loss: 51778748416.0000 - mae: 14683.3779\n",
      "Epoch 58/150\n",
      "421/421 [==============================] - 0s 893us/step - loss: 51763597312.0000 - mae: 14648.8379\n",
      "Epoch 59/150\n",
      "421/421 [==============================] - 0s 776us/step - loss: 51783782400.0000 - mae: 14655.0352\n",
      "Epoch 60/150\n",
      "421/421 [==============================] - 0s 943us/step - loss: 51767259136.0000 - mae: 14649.1475\n",
      "Epoch 61/150\n",
      "421/421 [==============================] - 0s 812us/step - loss: 51793698816.0000 - mae: 14638.2207\n",
      "Epoch 62/150\n",
      "421/421 [==============================] - 0s 867us/step - loss: 51776012288.0000 - mae: 14606.3936\n",
      "Epoch 63/150\n",
      "421/421 [==============================] - 0s 810us/step - loss: 51709767680.0000 - mae: 14672.8955\n",
      "Epoch 64/150\n",
      "421/421 [==============================] - 0s 817us/step - loss: 51788390400.0000 - mae: 14657.4727\n",
      "Epoch 65/150\n",
      "421/421 [==============================] - 0s 790us/step - loss: 51781967872.0000 - mae: 14661.4365\n",
      "Epoch 66/150\n",
      "421/421 [==============================] - 0s 788us/step - loss: 51749945344.0000 - mae: 14677.4170\n",
      "Epoch 67/150\n",
      "421/421 [==============================] - 0s 781us/step - loss: 51746353152.0000 - mae: 14673.5557\n",
      "Epoch 68/150\n",
      "421/421 [==============================] - 0s 776us/step - loss: 51749810176.0000 - mae: 14587.6875\n",
      "Epoch 69/150\n",
      "421/421 [==============================] - 0s 771us/step - loss: 51723735040.0000 - mae: 14606.1221\n",
      "Epoch 70/150\n",
      "421/421 [==============================] - 0s 771us/step - loss: 51673694208.0000 - mae: 14618.3037\n",
      "Epoch 71/150\n",
      "421/421 [==============================] - 0s 771us/step - loss: 51790024704.0000 - mae: 14556.8799\n",
      "Epoch 72/150\n",
      "421/421 [==============================] - 0s 829us/step - loss: 51747143680.0000 - mae: 14558.6475\n",
      "Epoch 73/150\n"
     ]
    },
    {
     "name": "stdout",
     "output_type": "stream",
     "text": [
      "421/421 [==============================] - 0s 836us/step - loss: 51753816064.0000 - mae: 14596.1855\n",
      "Epoch 74/150\n",
      "421/421 [==============================] - 0s 798us/step - loss: 51761582080.0000 - mae: 14668.0264\n",
      "Epoch 75/150\n",
      "421/421 [==============================] - 0s 762us/step - loss: 51752099840.0000 - mae: 14641.9297\n",
      "Epoch 76/150\n",
      "421/421 [==============================] - 0s 764us/step - loss: 51720855552.0000 - mae: 14599.1455\n",
      "Epoch 77/150\n",
      "421/421 [==============================] - 0s 762us/step - loss: 51714445312.0000 - mae: 14604.9092\n",
      "Epoch 78/150\n",
      "421/421 [==============================] - 0s 767us/step - loss: 51755180032.0000 - mae: 14614.9824\n",
      "Epoch 79/150\n",
      "421/421 [==============================] - 0s 766us/step - loss: 51782361088.0000 - mae: 14575.4912\n",
      "Epoch 80/150\n",
      "421/421 [==============================] - 0s 774us/step - loss: 51767767040.0000 - mae: 14608.3779\n",
      "Epoch 81/150\n",
      "421/421 [==============================] - 0s 779us/step - loss: 51772452864.0000 - mae: 14532.8184\n",
      "Epoch 82/150\n",
      "421/421 [==============================] - 0s 783us/step - loss: 51725262848.0000 - mae: 14653.0605\n",
      "Epoch 83/150\n",
      "421/421 [==============================] - 0s 829us/step - loss: 51748913152.0000 - mae: 14646.7207\n",
      "Epoch 84/150\n",
      "421/421 [==============================] - 0s 779us/step - loss: 51793170432.0000 - mae: 14588.7266\n",
      "Epoch 85/150\n",
      "421/421 [==============================] - 0s 767us/step - loss: 51769364480.0000 - mae: 14565.1816\n",
      "Epoch 86/150\n",
      "421/421 [==============================] - 0s 775us/step - loss: 51771031552.0000 - mae: 14507.0615\n",
      "Epoch 87/150\n",
      "421/421 [==============================] - 0s 807us/step - loss: 51749834752.0000 - mae: 14633.2139\n",
      "Epoch 88/150\n",
      "421/421 [==============================] - 0s 843us/step - loss: 51747389440.0000 - mae: 14669.5713\n",
      "Epoch 89/150\n",
      "421/421 [==============================] - 0s 783us/step - loss: 51734474752.0000 - mae: 14583.4473\n",
      "Epoch 90/150\n",
      "421/421 [==============================] - 0s 826us/step - loss: 51719442432.0000 - mae: 14632.7686\n",
      "Epoch 91/150\n",
      "421/421 [==============================] - 0s 793us/step - loss: 51810037760.0000 - mae: 14664.1270\n",
      "Epoch 92/150\n",
      "421/421 [==============================] - 0s 771us/step - loss: 51804000256.0000 - mae: 14613.1982\n",
      "Epoch 93/150\n",
      "421/421 [==============================] - 0s 781us/step - loss: 51735781376.0000 - mae: 14584.6367\n",
      "Epoch 94/150\n",
      "421/421 [==============================] - 0s 817us/step - loss: 51727880192.0000 - mae: 14633.0879\n",
      "Epoch 95/150\n",
      "421/421 [==============================] - 0s 779us/step - loss: 51753369600.0000 - mae: 14534.1191\n",
      "Epoch 96/150\n",
      "421/421 [==============================] - 0s 783us/step - loss: 51725967360.0000 - mae: 14516.7451\n",
      "Epoch 97/150\n",
      "421/421 [==============================] - 0s 786us/step - loss: 51704868864.0000 - mae: 14656.7598\n",
      "Epoch 98/150\n",
      "421/421 [==============================] - 0s 788us/step - loss: 51777048576.0000 - mae: 14605.9512\n",
      "Epoch 99/150\n",
      "421/421 [==============================] - 0s 781us/step - loss: 51785482240.0000 - mae: 14582.3477\n",
      "Epoch 100/150\n",
      "421/421 [==============================] - 0s 790us/step - loss: 51758264320.0000 - mae: 14620.5430\n",
      "Epoch 101/150\n",
      "421/421 [==============================] - 0s 1ms/step - loss: 51747561472.0000 - mae: 14543.8584\n",
      "Epoch 102/150\n",
      "421/421 [==============================] - 0s 940us/step - loss: 51757510656.0000 - mae: 14579.5361\n",
      "Epoch 103/150\n",
      "421/421 [==============================] - 0s 817us/step - loss: 51721691136.0000 - mae: 14561.1113\n",
      "Epoch 104/150\n",
      "421/421 [==============================] - 0s 845us/step - loss: 51748216832.0000 - mae: 14613.3848\n",
      "Epoch 105/150\n",
      "421/421 [==============================] - 0s 936us/step - loss: 51785068544.0000 - mae: 14673.3535\n",
      "Epoch 106/150\n",
      "421/421 [==============================] - 0s 845us/step - loss: 51745271808.0000 - mae: 14617.0488\n"
     ]
    }
   ],
   "source": [
    "callback_early=tf.keras.callbacks.EarlyStopping(monitor=\"mae\", patience=20, mode=\"auto\")\n",
    "history=model.fit(X_train,y_train,epochs=150, callbacks=([callback_early]))"
   ]
  },
  {
   "cell_type": "code",
   "execution_count": 58,
   "metadata": {},
   "outputs": [
    {
     "data": {
      "image/png": "[encoded data removed]",
      "text/plain": [
       "<Figure size 432x288 with 1 Axes>"
      ]
     },
     "metadata": {
      "needs_background": "light"
     },
     "output_type": "display_data"
    }
   ],
   "source": [
    "import matplotlib.pyplot as plt\n",
    "x=history.epoch\n",
    "y=history.history['loss']\n",
    "\n",
    "plt.plot(x,y)\n",
    "plt.xlabel('epochs')\n",
    "plt.ylabel('loss')\n",
    "plt.show()"
   ]
  },
  {
   "cell_type": "code",
   "execution_count": 59,
   "metadata": {},
   "outputs": [
    {
     "data": {
      "text/plain": [
       "array([[13772.657],\n",
       "       [12730.067],\n",
       "       [ 8998.04 ],\n",
       "       ...,\n",
       "       [ 7834.7  ],\n",
       "       [ 9517.669],\n",
       "       [15944.676]], dtype=float32)"
      ]
     },
     "execution_count": 59,
     "metadata": {},
     "output_type": "execute_result"
    }
   ],
   "source": [
    "pred=model.predict(X_test)\n",
    "pred"
   ]
  },
  {
   "cell_type": "code",
   "execution_count": 60,
   "metadata": {},
   "outputs": [
    {
     "name": "stdout",
     "output_type": "stream",
     "text": [
      "181/181 [==============================] - 0s 589us/step - loss: 396196448.0000 - mae: 11524.6055\n"
     ]
    },
    {
     "data": {
      "text/plain": [
       "[396196448.0, 11524.60546875]"
      ]
     },
     "execution_count": 60,
     "metadata": {},
     "output_type": "execute_result"
    }
   ],
   "source": [
    "model.evaluate(X_test, y_test)"
   ]
  },
  {
   "cell_type": "code",
   "execution_count": 61,
   "metadata": {},
   "outputs": [],
   "source": [
    "model.save('car_prediction_model_v1.h5')"
   ]
  },
  {
   "cell_type": "code",
   "execution_count": null,
   "metadata": {},
   "outputs": [],
   "source": []
  }
 ],
 "metadata": {
  "kernelspec": {
   "display_name": "Python 3",
   "language": "python",
   "name": "python3"
  },
  "language_info": {
   "codemirror_mode": {
    "name": "ipython",
    "version": 3
   },
   "file_extension": ".py",
   "mimetype": "text/x-python",
   "name": "python",
   "nbconvert_exporter": "python",
   "pygments_lexer": "ipython3",
   "version": "3.8.5"
  }
 },
 "nbformat": 4,
 "nbformat_minor": 4
}
